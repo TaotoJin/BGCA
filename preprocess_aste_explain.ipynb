{
 "cells": [
  {
   "cell_type": "code",
   "execution_count": 1,
   "metadata": {},
   "outputs": [],
   "source": [
    "# constant variable\n",
    "\n",
    "T5_ORI_LEN = 32100\n",
    "\n",
    "TAG_TO_WORD = {'POS': 'positive', 'NEG': 'negative', 'NEU': 'neutral'}\n",
    "TAG_WORD_LIST = ['positive', 'negative', 'neutral']\n",
    "\n",
    "# annotation-bracket\n",
    "TAG_TO_BRACKET = {\"POS\": (\"((\", \"))\"), \"NEG\": (\"[[\", \"]]\"), \"NEU\": (\"{{\", \"}}\")}\n",
    "BRACKET_TO_TAG = {\"{{\": \"neutral\", \"[[\": \"negative\", \"((\": \"positive\"}\n",
    "\n",
    "# annotation-special\n",
    "NONE_TOKEN = \"[none]\"\n",
    "AND_TOKEN = \"[and]\"\n",
    "ASPECT_TOKEN = \"<aspect>\"\n",
    "OPINION_TOKEN = \"<opinion>\"\n",
    "EMPTY_TOKEN = \"<empty>\"\n",
    "SEP_TOKEN = \"<sep>\"\n",
    "TAG_TO_SPECIAL = {\"POS\": (\"<pos>\", \"</pos>\"), \"NEG\": (\"<neg>\", \"</neg>\"), \"NEU\": (\"<neu>\", \"</neu>\")}\n",
    "SPECIAL_TO_TAG = {\"<pos>\": \"positive\", \"<neg>\": \"negative\", \"<neu>\": \"neutral\"}\n",
    "\n",
    "TARGET_TEST_COUNT_DICT = {\n",
    "    \"laptop\": 800,\n",
    "    \"rest\": 2158,\n",
    "    \"device\": 1279,\n",
    "    \"service\": 747,\n",
    "}\n",
    "# please follw L, R, D, S order for evaluation purpose, since we will combine test files into one\n",
    "\n",
    "ASTE_TRANSFER_PAIRS = {\n",
    "    \"rest14\": [\"laptop14\"],\n",
    "    # \"rest15\": [\"laptop14\"],\n",
    "    # \"rest16\": [\"laptop14\"],\n",
    "    # \"laptop14\": [\"rest14\", \"rest15\", \"rest16\"],\n",
    "}\n",
    "AOPE_TRANSFER_PAIRS = ASTE_TRANSFER_PAIRS\n",
    "\n",
    "STOP_WORDS = ['about', 'itself', 'so', 'further', 'against', \"don't\", 'shouldn', 'to', 'didn', 'hers', 'over', 'haven', \"it's\", 'of', 'have', 'm', 'but', \"you've\", 'which', 'd', 'most', 'nor', \"haven't\", \"wasn't\", 'yourself', 'with', 'am', 'do', 'than', \"that'll\", \"isn't\", 'or', \"shan't\", 'then', 'while', 'did', 'off', 'under', \"mustn't\", \"won't\", 'again', 'you', 'its', 'these', 'some', 'he', 'after', 'doesn', 'into', 't', 'more', 'whom', 'his', 'from', 'a', 'at', 'during', 'when', \"she's\", \"aren't\", 'was', 'same', 'myself', 'my', 'has', 'aren', 'by', 'before', \"needn't\", 'yourselves', 'such', 'she', 'is', 'needn', 'here', 'too', 'ourselves', \"didn't\", 'both', 'i', 'theirs', 'weren', 'be', 'their', 'were', 'because', 'should', \"should've\", \"couldn't\", 'will', 'isn', 'all', 'and', 'through', 'won', \"weren't\", 'y', 'they', 'for', 'until', 'him', 's', 'now', 'those', 'up', 'had', 'that', 'ma', 'couldn', 'been', 'why', 'below', 'own', 'doing', \"you'll\", 'very', 'above', \"shouldn't\", 'where', 've', 'if', 'are', 'how', 'wasn', 'it', 'what', 'as', 'hadn', 'hasn', \"you'd\", \"wouldn't\", 'don', 'few', 'other', 're', 'ain', \"hadn't\", \"doesn't\", 'himself', 'shan', 'the', 'not', 'mustn', 'does', \"hasn't\", 'll', 'your', 'yours', 'herself', 'in', 'wouldn', 'themselves', 'who', 'there', 'ours', 'out', 'mightn', 'me', 'them', 'once', \"mightn't\", 'we', 'her', 'this', 'being', 'any', 'can', 'o', 'no', 'having', \"you're\", 'our', 'on', 'between', 'down', 'only', 'just', 'each', 'an']"
   ]
  },
  {
   "cell_type": "code",
   "execution_count": null,
   "metadata": {},
   "outputs": [],
   "source": []
  }
 ],
 "metadata": {
  "kernelspec": {
   "display_name": "Python 3",
   "language": "python",
   "name": "python3"
  },
  "language_info": {
   "codemirror_mode": {
    "name": "ipython",
    "version": 3
   },
   "file_extension": ".py",
   "mimetype": "text/x-python",
   "name": "python",
   "nbconvert_exporter": "python",
   "pygments_lexer": "ipython3",
   "version": "3.8.18"
  }
 },
 "nbformat": 4,
 "nbformat_minor": 2
}

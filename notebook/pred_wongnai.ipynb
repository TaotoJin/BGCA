{
 "cells": [
  {
   "cell_type": "code",
   "execution_count": null,
   "metadata": {},
   "outputs": [],
   "source": [
    "import logging\n",
    "import re\n",
    "import os\n",
    "os.chdir('../code/')\n",
    "import random\n",
    "\n",
    "import pandas as pd\n",
    "\n",
    "import torch\n",
    "from torch.utils.data import DataLoader\n",
    "# from tqdm import tqdm, trange\n",
    "from tqdm.notebook import tqdm, trange\n",
    "from transformers import (AdamW, AutoModelForSeq2SeqLM,\n",
    "                          AutoTokenizer, get_linear_schedule_with_warmup)\n"
   ]
  },
  {
   "cell_type": "code",
   "execution_count": null,
   "metadata": {},
   "outputs": [],
   "source": [
    "from constants import *\n",
    "from data_utils import (ABSADataset, filter_none, filter_invalid,\n",
    "                        get_dataset, get_inputs, normalize_augment)\n",
    "from model_utils import (prepare_constrained_tokens, prepare_tag_tokens)\n",
    "from main import *\n",
    "from data_utils import *"
   ]
  },
  {
   "cell_type": "code",
   "execution_count": null,
   "metadata": {},
   "outputs": [],
   "source": [
    "# Load arguments from the JSON file\n",
    "\n",
    "import json\n",
    "import argparse\n",
    "\n",
    "arg_path = '../outputs/aste/cross_domain/run_aste/seed-42/rest14-laptop14/args.json'\n",
    "with open(arg_path, 'r') as file:\n",
    "    args_dict = json.load(file)\n",
    "\n",
    "# Create a namespace from the dictionary\n",
    "args = argparse.Namespace(**args_dict)\n",
    "\n",
    "# args.model_name_or_path = '../outputs/aste/cross_domain/run_aste/seed-42/laptop14-rest14/checkpoint-e24'\n",
    "args.model_name_or_path = '../outputs/aste/cross_domain/run_aste/seed-42/rest14-laptop14/checkpoint-e22'\n",
    "print(args)\n"
   ]
  },
  {
   "cell_type": "code",
   "execution_count": null,
   "metadata": {},
   "outputs": [],
   "source": [
    "model = AutoModelForSeq2SeqLM.from_pretrained(args.model_name_or_path).to(args.device)\n",
    "tokenizer = AutoTokenizer.from_pretrained(args.model_name_or_path, use_fast=False)"
   ]
  },
  {
   "cell_type": "code",
   "execution_count": null,
   "metadata": {},
   "outputs": [],
   "source": [
    "# data = pd.read_csv('../thai_data/wongnai/w_review_train.csv', sep=';',  header=None, )\n",
    "data = pd.read_csv('../thai_data/wongnai/test_file.csv', sep=';')\n",
    "# data.columns = ['review', 'rating']\n",
    "data"
   ]
  },
  {
   "cell_type": "code",
   "execution_count": null,
   "metadata": {},
   "outputs": [],
   "source": [
    "from pythainlp import word_tokenize\n",
    "tqdm.pandas(desc='tokenizing')\n",
    "data['tokens'] = data['review'].progress_apply(lambda x: word_tokenize(x, engine='newmm'))"
   ]
  },
  {
   "cell_type": "code",
   "execution_count": null,
   "metadata": {},
   "outputs": [],
   "source": [
    "data['n_tokens'] = data['tokens'].apply(lambda x:len(x))\n",
    "data['text_space'] = data['tokens'].apply(lambda x: ' '.join(x))\n",
    "data"
   ]
  },
  {
   "cell_type": "code",
   "execution_count": null,
   "metadata": {},
   "outputs": [],
   "source": [
    "input_list = data['text_space'].tolist()\n",
    "input_list[:5]"
   ]
  },
  {
   "cell_type": "code",
   "execution_count": null,
   "metadata": {},
   "outputs": [],
   "source": [
    "input_list[0]"
   ]
  },
  {
   "cell_type": "code",
   "execution_count": null,
   "metadata": {},
   "outputs": [],
   "source": [
    "dataset = ABSADataset(args, tokenizer, inputs=input_list, targets=[ \" \" for _ in range(len(input_list))])\n",
    "\n"
   ]
  },
  {
   "cell_type": "code",
   "execution_count": null,
   "metadata": {},
   "outputs": [],
   "source": [
    "dataset[0]"
   ]
  },
  {
   "cell_type": "code",
   "execution_count": null,
   "metadata": {},
   "outputs": [],
   "source": [
    "def infer_new(args, dataset, model, tokenizer, name=None, is_constrained=False, constrained_vocab=None, keep_mask=False, **decode_dict):\n",
    "    dataloader = DataLoader(dataset, batch_size=args.eval_batch_size, num_workers=4)\n",
    "\n",
    "    if keep_mask:\n",
    "        # can't skip special directly, will lose extra_id\n",
    "        unwanted_tokens = [tokenizer.eos_token, tokenizer.unk_token, tokenizer.pad_token]\n",
    "        unwanted_ids = tokenizer.convert_tokens_to_ids(unwanted_tokens)\n",
    "        def filter_decode(ids):\n",
    "            ids = [i for i in ids if i not in unwanted_ids]\n",
    "            tokens = tokenizer.convert_ids_to_tokens(ids)\n",
    "            sentence = tokenizer.convert_tokens_to_string(tokens)\n",
    "            return sentence\n",
    "\n",
    "    # inference\n",
    "    inputs, outputs, targets = [], [], []\n",
    "    \n",
    "    model.eval()\n",
    "    with torch.no_grad():\n",
    "        for batch in tqdm(dataloader, desc='Generating'):\n",
    "            if is_constrained:\n",
    "                prefix_fn_obj = Prefix_fn_cls(tokenizer, constrained_vocab, batch['source_ids'].to(args.device))  # need fix\n",
    "                prefix_fn = lambda batch_id, sent: prefix_fn_obj.get(batch_id, sent)\n",
    "            else:\n",
    "                prefix_fn = None # greedy\n",
    "\n",
    "            outs_dict = model.generate(input_ids=batch['source_ids'].to(args.device),\n",
    "                                        attention_mask=batch['source_mask'].to(args.device),\n",
    "                                        max_length=128,\n",
    "                                        prefix_allowed_tokens_fn=prefix_fn,\n",
    "                                        output_scores=True,\n",
    "                                        return_dict_in_generate=True,\n",
    "                                        **decode_dict,\n",
    "                                        )\n",
    "            outs = outs_dict[\"sequences\"]\n",
    "\n",
    "            if keep_mask:\n",
    "                input_ = [filter_decode(ids) for ids in batch[\"source_ids\"]]\n",
    "                dec = [filter_decode(ids) for ids in outs]\n",
    "                target = [filter_decode(ids) for ids in batch[\"target_ids\"]]\n",
    "            else:\n",
    "                input_ = [tokenizer.decode(ids, skip_special_tokens=True) for ids in batch[\"source_ids\"]]\n",
    "                dec = [tokenizer.decode(ids, skip_special_tokens=True) for ids in outs]\n",
    "                target = [tokenizer.decode(ids, skip_special_tokens=True) for ids in batch[\"target_ids\"]]\n",
    "\n",
    "            inputs.extend(input_)\n",
    "            outputs.extend(dec)\n",
    "            targets.extend(target)\n",
    "\n",
    "    # decode_txt = \"constrained\" if is_constrained else \"greedy\"\n",
    "    # with open(os.path.join(args.inference_dir, f\"{name}_{decode_txt}_output.txt\"), \"w\") as f:\n",
    "    #     for i, o in enumerate(outputs):\n",
    "    #         f.write(f\"{inputs[i]} ===> {o}\\n\")\n",
    "\n",
    "    # return inputs, outputs, targets\n",
    "    return inputs, outputs\n"
   ]
  },
  {
   "cell_type": "code",
   "execution_count": null,
   "metadata": {},
   "outputs": [],
   "source": [
    "input_infer, output_infer = infer_new(\n",
    "        args, dataset, model, tokenizer, \n",
    "        # name=f\"thai-pred\",\n",
    "        # is_constrained=True, \n",
    "        is_constrained=False, \n",
    "        constrained_vocab=prepare_constrained_tokens(tokenizer, args.task, args.paradigm),\n",
    "    )\n",
    "\n",
    "\n",
    "# for x,y in zip(input_infer, output_infer):\n",
    "#     print(f'input text:{x}')\n",
    "#     print(f'predict(gene) text:{y}')"
   ]
  },
  {
   "cell_type": "code",
   "execution_count": null,
   "metadata": {},
   "outputs": [],
   "source": [
    "# for x,y in zip(input_infer, output_infer):\n",
    "#     print(f'input text:{x}')\n",
    "#     print(f'predict(gene) text:{y}')\n",
    "\n",
    "with open('../thai_data/wongnai/rest14/test_file_extract_rest14.csv', \"w\") as f:\n",
    "    for x,y in zip(input_infer, output_infer):\n",
    "        f.write(f\"{x} ===> {y}\\n\")"
   ]
  },
  {
   "cell_type": "code",
   "execution_count": null,
   "metadata": {},
   "outputs": [],
   "source": []
  }
 ],
 "metadata": {
  "kernelspec": {
   "display_name": "Python 3",
   "language": "python",
   "name": "python3"
  },
  "language_info": {
   "codemirror_mode": {
    "name": "ipython",
    "version": 3
   },
   "file_extension": ".py",
   "mimetype": "text/x-python",
   "name": "python",
   "nbconvert_exporter": "python",
   "pygments_lexer": "ipython3",
   "version": "3.8.18"
  }
 },
 "nbformat": 4,
 "nbformat_minor": 2
}

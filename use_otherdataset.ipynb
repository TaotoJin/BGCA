{
 "cells": [
  {
   "cell_type": "code",
   "execution_count": 1,
   "metadata": {},
   "outputs": [
    {
     "data": {
      "text/plain": [
       "'c:\\\\Workspace\\\\Tutorial\\\\BGCA\\\\code'"
      ]
     },
     "execution_count": 1,
     "metadata": {},
     "output_type": "execute_result"
    }
   ],
   "source": [
    "import os\n",
    "os.chdir('code/')\n",
    "os.getcwd()"
   ]
  },
  {
   "cell_type": "code",
   "execution_count": 2,
   "metadata": {},
   "outputs": [
    {
     "data": {
      "text/plain": [
       "'c:\\\\Workspace\\\\Tutorial\\\\BGCA\\\\code'"
      ]
     },
     "execution_count": 2,
     "metadata": {},
     "output_type": "execute_result"
    }
   ],
   "source": [
    "%pwd"
   ]
  },
  {
   "cell_type": "code",
   "execution_count": 4,
   "metadata": {},
   "outputs": [
    {
     "name": "stdout",
     "output_type": "stream",
     "text": [
      "Seed list: [42]\n",
      "Running with seed 42\n",
      "Namespace(adam_epsilon=1e-08, beam=1, clear_model=False, commit=None, data_dir=None, data_gene=False, data_gene_aug_num=None, data_gene_aug_ratio=None, data_gene_decode=None, data_gene_epochs=0, data_gene_extract=False, data_gene_extract_epochs=0, data_gene_extract_none_remove_ratio=0, data_gene_min_length=0, data_gene_none_remove_ratio=0, data_gene_none_word_num=1, data_gene_num_beam=1, data_gene_same_model=False, data_gene_top_p=0.9, data_gene_wt_constrained=False, dataset='cross_domain', device='cuda', do_eval=True, do_train=False, eval_batch_size=16, extract_model=None, gene_model=None, gradient_accumulation_steps=1, init_tag=None, learning_rate=0.0003, max_seq_length=128, model_filter=False, model_filter_skip_none=False, model_name_or_path='../outputs/aste/cross_domain/1024_1313-run_aste/seed-42/laptop14-rest14/checkpoint-e3', n_gpu='1', n_runs=1, name='1024_1313-run_aste', no_greedy=False, nrows=100, num_train_epochs=20, output_dir='../outputs/aste/cross_domain\\\\1024_1313-run_aste', paradigm='extraction-universal', pseudo=False, pseudo_skip_none=False, runned_folder=None, save_best=False, save_last_k=5, seed=42, target_domain='rest14', task='aste', train_batch_size=16, train_by_pair=True, use_same_model=False, warmup_steps=0.0, weight_decay=0.0)\n",
      "{'rest14': ['laptop14']}\n",
      "{'rest14': ['laptop14']}\n",
      "######################################################################\n",
      "####################Working on rest14 --> laptop14$$$$$$$$$$$$$$$$$$$$\n",
      "######################################################################\n",
      "[11/08/2023 15:15:23 - root:114]: ######################################################################################################\n",
      "[11/08/2023 15:15:23 - root:115]: ==============================NEW EXP: ASTE on cross_domain with seed 42==============================\n",
      "[11/08/2023 15:15:23 - root:116]: ######################################################################################################\n",
      "[11/08/2023 15:15:23 - root:129]: Namespace(adam_epsilon=1e-08, beam=1, clear_model=False, commit=None, data_dir='../outputs/aste/cross_domain\\\\1024_1313-run_aste/seed-42/rest14-laptop14\\\\data', data_gene=False, data_gene_aug_num=None, data_gene_aug_ratio=None, data_gene_decode=None, data_gene_epochs=0, data_gene_extract=False, data_gene_extract_epochs=0, data_gene_extract_none_remove_ratio=0, data_gene_min_length=0, data_gene_none_remove_ratio=0, data_gene_none_word_num=1, data_gene_num_beam=1, data_gene_same_model=False, data_gene_top_p=0.9, data_gene_wt_constrained=False, dataset='cross_domain', device='cuda', do_eval=True, do_train=False, eval_batch_size=16, extract_model=None, gene_model=None, gradient_accumulation_steps=1, inference_dir='../outputs/aste/cross_domain\\\\1024_1313-run_aste/seed-42/rest14-laptop14\\\\inference', init_tag=None, learning_rate=0.0003, max_seq_length=128, model_filter=False, model_filter_skip_none=False, model_name_or_path='../outputs/aste/cross_domain/1024_1313-run_aste/seed-42/laptop14-rest14/checkpoint-e3', n_gpu='1', n_runs=1, name='1024_1313-run_aste', no_greedy=False, nrows=100, num_train_epochs=20, ori_tok_len=32100, output_dir='../outputs/aste/cross_domain\\\\1024_1313-run_aste', paradigm='extraction-universal', pseudo=False, pseudo_skip_none=False, runned_folder=None, save_best=False, save_last_k=5, score_dir='../outputs/aste/cross_domain\\\\1024_1313-run_aste/seed-42/rest14-laptop14\\\\score', seed=42, seed_dir='../outputs/aste/cross_domain\\\\1024_1313-run_aste/seed-42/rest14-laptop14', source_domain='rest14', target_domain=['laptop14'], task='aste', train_batch_size=16, train_by_pair=True, use_same_model=False, warmup_steps=0.0, weight_decay=0.0)\n",
      "[11/08/2023 15:15:23 - preprocess:157]: train_paths: ['../data/aste/cross_domain\\\\rest14/train.txt']\n",
      "[11/08/2023 15:15:23 - preprocess:158]: dev_paths: ['../data/aste/cross_domain\\\\rest14/dev.txt']\n",
      "[11/08/2023 15:15:23 - preprocess:159]: test_paths: ['../data/aste/cross_domain\\\\laptop14/test.txt']\n",
      "[11/08/2023 15:15:23 - preprocess:115]: train ../data/aste/cross_domain\\rest14/train.txt: 100\n",
      "[11/08/2023 15:15:23 - preprocess:117]: train total: 100\n",
      "[11/08/2023 15:15:23 - preprocess:118]: train count dict: {None: 100}\n",
      "[11/08/2023 15:15:23 - preprocess:130]: ../outputs/aste/cross_domain\\1024_1313-run_aste/seed-42/rest14-laptop14\\data/train.txt is written.\n",
      "[11/08/2023 15:15:23 - preprocess:115]: dev ../data/aste/cross_domain\\rest14/dev.txt: 100\n",
      "[11/08/2023 15:15:23 - preprocess:117]: dev total: 100\n",
      "[11/08/2023 15:15:23 - preprocess:118]: dev count dict: {'cross_domain\\\\rest14': 100}\n",
      "[11/08/2023 15:15:23 - preprocess:130]: ../outputs/aste/cross_domain\\1024_1313-run_aste/seed-42/rest14-laptop14\\data/dev.txt is written.\n",
      "[11/08/2023 15:15:23 - preprocess:115]: test ../data/aste/cross_domain\\laptop14/test.txt: 100\n",
      "[11/08/2023 15:15:23 - preprocess:117]: test total: 100\n",
      "[11/08/2023 15:15:23 - preprocess:118]: test count dict: {'cross_domain\\\\laptop14': 100}\n",
      "[11/08/2023 15:15:23 - preprocess:130]: ../outputs/aste/cross_domain\\1024_1313-run_aste/seed-42/rest14-laptop14\\data/test.txt is written.\n",
      "[11/08/2023 15:15:23 - model_utils:34]: Tag tokens: ['<neu>', '<sep>', '<neg>', '<opinion>', '<pos>']\n"
     ]
    },
    {
     "name": "stderr",
     "output_type": "stream",
     "text": [
      "Seed set to 42\n",
      "Traceback (most recent call last):\n",
      "  File \"main.py\", line 340, in <module>\n",
      "    runed_dirs = run_multiple_seeds(args, seed_list)\n",
      "  File \"main.py\", line 330, in run_multiple_seeds\n",
      "    main(args)\n",
      "  File \"main.py\", line 139, in main\n",
      "    tokenizer = AutoTokenizer.from_pretrained(args.model_name_or_path, force_download=True, use_fast=False)\n",
      "  File \"c:\\Workspace\\Tutorial\\BGCA\\.conda\\lib\\site-packages\\transformers\\models\\auto\\tokenization_auto.py\", line 471, in from_pretrained\n",
      "    tokenizer_config = get_tokenizer_config(pretrained_model_name_or_path, **kwargs)\n",
      "  File \"c:\\Workspace\\Tutorial\\BGCA\\.conda\\lib\\site-packages\\transformers\\models\\auto\\tokenization_auto.py\", line 332, in get_tokenizer_config\n",
      "    resolved_config_file = get_file_from_repo(\n",
      "  File \"c:\\Workspace\\Tutorial\\BGCA\\.conda\\lib\\site-packages\\transformers\\utils\\hub.py\", line 678, in get_file_from_repo\n",
      "    resolved_file = cached_path(\n",
      "  File \"c:\\Workspace\\Tutorial\\BGCA\\.conda\\lib\\site-packages\\transformers\\utils\\hub.py\", line 282, in cached_path\n",
      "    output_path = get_from_cache(\n",
      "  File \"c:\\Workspace\\Tutorial\\BGCA\\.conda\\lib\\site-packages\\transformers\\utils\\hub.py\", line 545, in get_from_cache\n",
      "    raise ValueError(\n",
      "ValueError: Connection error, and we cannot find the requested files in the cached path. Please try again or make sure your Internet connection is on.\n"
     ]
    }
   ],
   "source": [
    "!python main.py --task aste \\\n",
    "    --name 1024_1313-run_aste \\\n",
    "    --seed 42 \\\n",
    "    --dataset cross_domain \\\n",
    "    --model_name_or_path 'C:/Workspace/Tutorial/BGCA/outputs/aste\\cross_domain/1024_1313-run_aste/seed-42/rest14-laptop14/checkpoint-e3' \\\n",
    "    --paradigm extraction-universal \\\n",
    "    --n_gpu 1 \\\n",
    "    --n_runs 1 \\\n",
    "    --train_by_pair \\\n",
    "    --target_domain rest14 \\\n",
    "    --nrows 100 \\\n",
    "    --do_eval \n",
    "    # --extract_model '../outputs/aste/cross_domain/1024_1313-run_aste/seed-42/laptop14-rest14/extract_aste-model'\\\n",
    "    # --gene_model '../outputs/aste/cross_domain/1024_1313-run_aste/seed-42/laptop14-rest14/gene_aste-model' \\"
   ]
  }
 ],
 "metadata": {
  "kernelspec": {
   "display_name": "Python 3",
   "language": "python",
   "name": "python3"
  },
  "language_info": {
   "codemirror_mode": {
    "name": "ipython",
    "version": 3
   },
   "file_extension": ".py",
   "mimetype": "text/x-python",
   "name": "python",
   "nbconvert_exporter": "python",
   "pygments_lexer": "ipython3",
   "version": "3.8.18"
  }
 },
 "nbformat": 4,
 "nbformat_minor": 2
}

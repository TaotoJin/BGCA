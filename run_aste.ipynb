{
 "cells": [
  {
   "cell_type": "markdown",
   "metadata": {},
   "source": [
    "# Check Dependency"
   ]
  },
  {
   "cell_type": "code",
   "execution_count": 1,
   "metadata": {},
   "outputs": [
    {
     "name": "stdout",
     "output_type": "stream",
     "text": [
      "Number of GPUs available:  1\n",
      "Free memory:  7513047040\n",
      "Total memory:  8589475840\n"
     ]
    }
   ],
   "source": [
    "# select python 3.8\n",
    "\n",
    "# check if torch cuda available\n",
    "import torch\n",
    "\n",
    "# Get the number of GPUs available\n",
    "num_of_gpus = torch.cuda.device_count()\n",
    "\n",
    "# Print the number of GPUs\n",
    "print(\"Number of GPUs available: \", num_of_gpus)\n",
    "\n",
    "# Get the free memory and total memory\n",
    "free_memory, total_memory = torch.cuda.mem_get_info()\n",
    "\n",
    "# Print the free memory and total memory\n",
    "print(\"Free memory: \", free_memory)\n",
    "print(\"Total memory: \", total_memory)\n"
   ]
  },
  {
   "cell_type": "code",
   "execution_count": null,
   "metadata": {},
   "outputs": [],
   "source": [
    "!pip install light-the-torch\n",
    "!pip install torch torchvision -f https://download.pytorch.org/whl/torch_stable.html"
   ]
  },
  {
   "cell_type": "code",
   "execution_count": 12,
   "metadata": {},
   "outputs": [
    {
     "name": "stdout",
     "output_type": "stream",
     "text": [
      "Python 3.8.18\n",
      "Name: transformers\n",
      "Version: 4.18.0\n",
      "Name: sentencepiece\n",
      "Version: 0.1.96\n",
      "Name: pytorch-lightning\n",
      "Version: 0.8.1\n",
      "Name: editdistance\n",
      "Version: 0.6.0\n",
      "Name: scikit-learn\n",
      "Version: 0.24.2\n",
      "Name: numpy\n",
      "Version: 1.22.3\n",
      "Name: tqdm\n",
      "Version: 4.64.0\n",
      "\t\n"
     ]
    }
   ],
   "source": [
    "# check python version & nessessary package\n",
    "!python --version\n",
    "!pip show transformers sentencepiece pytorch_lightning editdistance scikit-learn numpy tqdm | python -c \"import sys, re; print(''.join(line for line in sys.stdin if re.search(r'Name|Version', line)), end='\\t')\"\n",
    "\n"
   ]
  },
  {
   "cell_type": "markdown",
   "metadata": {},
   "source": [
    "# Train"
   ]
  },
  {
   "cell_type": "code",
   "execution_count": null,
   "metadata": {},
   "outputs": [],
   "source": [
    "import os\n",
    "\n",
    "# path to folder 'code' in BGCA repo\n",
    "os.chdir('/code')\n"
   ]
  },
  {
   "cell_type": "code",
   "execution_count": 20,
   "metadata": {},
   "outputs": [
    {
     "data": {
      "text/plain": [
       "'C:\\\\Workspace\\\\Tutorial\\\\BGCA\\\\code'"
      ]
     },
     "execution_count": 20,
     "metadata": {},
     "output_type": "execute_result"
    }
   ],
   "source": [
    "os.getcwd()"
   ]
  }
 ],
 "metadata": {
  "kernelspec": {
   "display_name": "Python 3",
   "language": "python",
   "name": "python3"
  },
  "language_info": {
   "codemirror_mode": {
    "name": "ipython",
    "version": 3
   },
   "file_extension": ".py",
   "mimetype": "text/x-python",
   "name": "python",
   "nbconvert_exporter": "python",
   "pygments_lexer": "ipython3",
   "version": "3.8.18"
  }
 },
 "nbformat": 4,
 "nbformat_minor": 2
}
